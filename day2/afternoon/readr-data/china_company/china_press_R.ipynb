{
 "cells": [
  {
   "cell_type": "markdown",
   "metadata": {},
   "source": [
    "# 國台辦爬蟲\n",
    "\n",
    "目標：\n",
    "* china 國台辦政務要聞（~2017-05-10） http://www.gwytb.gov.cn/wyly/\n",
    "* china_press 國台辦新聞發佈會（～2000-9-5） http://www.gwytb.gov.cn/xwfbh/\n",
    "* ATIE_press 台企聯新聞中心每日新聞（2013/01/08） http://www.qgtql.com/xwzx/mrxw/"
   ]
  },
  {
   "cell_type": "code",
   "execution_count": null,
   "metadata": {},
   "outputs": [],
   "source": [
    "library(rvest)"
   ]
  },
  {
   "cell_type": "code",
   "execution_count": null,
   "metadata": {},
   "outputs": [],
   "source": [
    "# 先得到連結的 list\n",
    "# append 是把 list （結果 chr 也可以）結合在一起的方式\n",
    "\n",
    "j=1:9\n",
    "jj<-as.character()\n",
    "for(j in 1:9){\n",
    "html<-read_html(paste0(\"http://www.gwytb.gov.cn/wyly/index_\",j,\".htm\"))\n",
    "html_2<-html_nodes(html,\".black14pxlist a\")\n",
    "ccc<-html_attr(html_2,'href')\n",
    "jj<-append(jj,as.character(ccc))}"
   ]
  },
  {
   "cell_type": "code",
   "execution_count": 4,
   "metadata": {},
   "outputs": [],
   "source": [
    "html_i<-read_html(\"http://www.gwytb.gov.cn/wyly/index.htm\")\n",
    "html_i2<-html_nodes(html_i,\".black14pxlist a\")\n",
    "ccc<-html_attr(html_i2,'href')"
   ]
  },
  {
   "cell_type": "code",
   "execution_count": 5,
   "metadata": {},
   "outputs": [],
   "source": [
    "# 把兩個資料結合在一起，完成網址清單\n",
    "jjj<-append(jj,ccc)"
   ]
  },
  {
   "cell_type": "code",
   "execution_count": null,
   "metadata": {},
   "outputs": [],
   "source": [
    "# 爬內文\n",
    "i=jjj\n",
    "china<-data.frame()\n",
    "for(i in jjj){\n",
    "html<-read_html(paste0(\"http://www.gwytb.gov.cn/wyly/\",i),encoding=\"GBK\")\n",
    "title<-html_text(html_nodes(html,'h1'))\n",
    "date<-html_text(html_nodes(html,'h1+ div'))\n",
    "content<-html_text(html_nodes(html,'#textsize p'))\n",
    "Sys.sleep(sample(3:5, 1)) \n",
    "china<-rbind(china,data.frame(title=title,date=date,content=content))\n",
    "}"
   ]
  },
  {
   "cell_type": "code",
   "execution_count": null,
   "metadata": {},
   "outputs": [],
   "source": [
    "# china_press\n",
    "t=1:5\n",
    "tt<-as.character()\n",
    "for(t in 1:5){\n",
    "html<-read_html(paste0(\"http://www.gwytb.gov.cn/xwfbh/index_\",t,\".htm\"))\n",
    "html_2<-html_nodes(html,\".black14pxlist a\")\n",
    "ccc<-html_attr(html_2,'href')\n",
    "tt<-append(tt,as.character(ccc))}\n",
    "\n",
    "html_t<-read_html(\"http://www.gwytb.gov.cn/xwfbh/index.htm\")\n",
    "html_t2<-html_nodes(html_t,\".black14pxlist a\")\n",
    "ccc<-html_attr(html_t2,'href')\n",
    "\n",
    "ttt<-append(tt,ccc)\n",
    "\n",
    "i=ttt\n",
    "china_press<-data.frame()\n",
    "for(i in ttt){\n",
    "html<-read_html(paste0(\"http://www.gwytb.gov.cn/xwfbh/\",i),encoding=\"GBK\")\n",
    "title<-html_text(html_nodes(html,'h1'))\n",
    "content<-html_text(html_nodes(html,'#textsize'))\n",
    "Sys.sleep(sample(3:5, 1)) \n",
    "china_press<-rbind(china_press,data.frame(title=title,content=content))\n",
    "}"
   ]
  },
  {
   "cell_type": "code",
   "execution_count": null,
   "metadata": {},
   "outputs": [],
   "source": [
    "# ATIE_press\n",
    "a=1:19\n",
    "aa<-as.character()\n",
    "for(a in 1:19){\n",
    "html<-read_html(paste0(\"http://www.qgtql.com/xwzx/mrxw/index_\",a,\".htm\"),encoding=\"GBK\")\n",
    "html_2<-html_nodes(html,\".black14\")\n",
    "ccc<-html_attr(html_2,'href')\n",
    "aa<-append(aa,as.character(ccc))}\n",
    "\n",
    "html_a<-read_html(\"http://www.qgtql.com/xwzx/mrxw/index.htm\",encoding=\"GBK\")\n",
    "html_a2<-html_nodes(html_a,\".black14\")\n",
    "kkk<-html_attr(html_a2,'href')\n",
    "\n",
    "aaa<-append(aa,kkk)\n",
    "\n",
    "i=aaa\n",
    "ATIE_press<-data.frame()\n",
    "for(i in aaa){\n",
    "html<-read_html(paste0(\"http://www.qgtql.com/xwzx/mrxw/\",i),encoding=\"GBK\")\n",
    "title<-html_text(html_nodes(html,'td td td td table:nth-child(1) tr:nth-child(2) td'))\n",
    "date<-html_text(html_nodes(html,'td td td table:nth-child(2) tr:nth-child(1) td'))\n",
    "content<-html_text(html_nodes(html,'.TRS_Editor'))\n",
    "Sys.sleep(sample(3:5, 1)) \n",
    "ATIE_press<-rbind(ATIE_press,data.frame(title=title,date=date,content=content))\n",
    "}"
   ]
  },
  {
   "cell_type": "code",
   "execution_count": null,
   "metadata": {},
   "outputs": [],
   "source": [
    "# ATIE_press_2\n",
    "g=8:19\n",
    "gg<-as.character()\n",
    "for(g in 8:19){\n",
    "html<-read_html(paste0(\"http://www.qgtql.com/xwzx/mrxw/index_\",g,\".htm\"),encoding=\"GBK\")\n",
    "html_2<-html_nodes(html,\".black14\")\n",
    "ccc<-html_attr(html_2,'href')\n",
    "gg<-append(gg,as.character(ccc))}\n",
    "\n",
    "i=gg\n",
    "ATIE_press_2<-data.frame()\n",
    "for(i in gg){\n",
    "html<-read_html(paste0(\"http://www.qgtql.com/xwzx/mrxw/\",i),encoding=\"GBK\")\n",
    "title<-html_text(html_nodes(html,'td td td td table:nth-child(1) tr:nth-child(2) td'))\n",
    "date<-html_text(html_nodes(html,'td td td table:nth-child(2) tr:nth-child(1) td'))\n",
    "content<-html_text(html_nodes(html,'.TRS_Editor'))\n",
    "Sys.sleep(sample(3:5, 1)) \n",
    "ATIE_press_2<-rbind(ATIE_press_2,data.frame(title=title,date=date,content=content))\n",
    "}"
   ]
  },
  {
   "cell_type": "code",
   "execution_count": null,
   "metadata": {},
   "outputs": [],
   "source": [
    "# ATIE_press_3\n",
    "g=13:19\n",
    "gg<-as.character()\n",
    "for(g in 13:19){\n",
    "html<-read_html(paste0(\"http://www.qgtql.com/xwzx/mrxw/index_\",g,\".htm\"),encoding=\"GBK\")\n",
    "html_2<-html_nodes(html,\".black14\")\n",
    "ccc<-html_attr(html_2,'href')\n",
    "gg<-append(gg,as.character(ccc))}\n",
    "\n",
    "i=gg\n",
    "ATIE_press_3<-data.frame()\n",
    "for(i in gg){\n",
    "html<-read_html(paste0(\"http://www.qgtql.com/xwzx/mrxw/\",i),encoding=\"GBK\")\n",
    "title<-html_text(html_nodes(html,'td td td td table:nth-child(1) tr:nth-child(2) td'))\n",
    "date<-html_text(html_nodes(html,'td td td table:nth-child(2) tr:nth-child(1) td'))\n",
    "content<-html_text(html_nodes(html,'td td td td tr:nth-child(1) td:nth-child(2)'))\n",
    "Sys.sleep(sample(3:5, 1)) \n",
    "ATIE_press_3<-rbind(ATIE_press_3,data.frame(title=title,date=date,content=content))\n",
    "}"
   ]
  },
  {
   "cell_type": "code",
   "execution_count": null,
   "metadata": {},
   "outputs": [],
   "source": [
    "g=16:19\n",
    "gg<-as.character()\n",
    "for(g in 16:19){\n",
    "html<-read_html(paste0(\"http://www.qgtql.com/xwzx/mrxw/index_\",g,\".htm\"),encoding=\"GBK\")\n",
    "html_2<-html_nodes(html,\".black14\")\n",
    "ccc<-html_attr(html_2,'href')\n",
    "gg<-append(gg,as.character(ccc))}\n",
    "\n",
    "i=gg\n",
    "ATIE_press_4<-data.frame()\n",
    "for(i in gg){\n",
    "html<-read_html(paste0(\"http://www.qgtql.com/xwzx/mrxw/\",i),encoding=\"GBK\")\n",
    "title<-html_text(html_nodes(html,'td td td td table:nth-child(1) tr:nth-child(2) td'))\n",
    "date<-html_text(html_nodes(html,'td td td table:nth-child(2) tr:nth-child(1) td'))\n",
    "content<-html_text(html_nodes(html,'td td td td tr:nth-child(1) td:nth-child(2)'))\n",
    "Sys.sleep(sample(3:5, 1)) \n",
    "ATIE_press_4<-rbind(ATIE_press_4,data.frame(title=title,date=date,content=content))\n",
    "}"
   ]
  },
  {
   "cell_type": "code",
   "execution_count": null,
   "metadata": {},
   "outputs": [],
   "source": [
    "html<-read_html(\"http://www.qgtql.com/xwzx/mrxw/index_15.htm\"),encoding=\"GBK\")\n",
    "html_2<-html_nodes(html,\".black14\")\n",
    "gg<-html_attr(html_2,'href')\n",
    "\n",
    "i=gg\n",
    "ATIE_press_15<-data.frame()\n",
    "for(i in gg){\n",
    "html<-read_html(paste0(\"http://www.qgtql.com/xwzx/mrxw/\",i),encoding=\"GBK\")\n",
    "title<-html_text(html_nodes(html,'td td td td table:nth-child(1) tr:nth-child(2) td'))\n",
    "date<-html_text(html_nodes(html,'td td td table:nth-child(2) tr:nth-child(1) td'))\n",
    "content<-html_text(html_nodes(html,'td td td td tr:nth-child(1) td:nth-child(2)'))\n",
    "Sys.sleep(sample(3:5, 1)) \n",
    "ATIE_press_15<-rbind(ATIE_press_15,data.frame(title=title,date=date,content=content))\n",
    "}"
   ]
  },
  {
   "cell_type": "code",
   "execution_count": null,
   "metadata": {},
   "outputs": [],
   "source": [
    "content<-html_text(html_nodes(html,'.TRS_Editor'))"
   ]
  },
  {
   "cell_type": "code",
   "execution_count": null,
   "metadata": {},
   "outputs": [],
   "source": [
    "# 資料清理\n",
    "ATIE_press_1<-filter(ATIE_press_all_rows,grepl(\"企业\",content))\n",
    "ATIE_press_1<-filter(ATIE_press_1,grepl(\"台湾\",content))\n",
    "ATIE_press_2<-filter(ATIE_press_all_rows,grepl(\"企业\",content))\n",
    "ATIE_press_2<-filter(ATIE_press_2,grepl(\"台资\",content))\n",
    "ATIE_press_3<-filter(ATIE_press_all_rows,grepl(\"集团\",content))\n",
    "ATIE_press_3<-filter(ATIE_press_3,grepl(\"台湾\",content))\n",
    "ATIE_press_4<-filter(ATIE_press_all_rows,grepl(\"台商\",content))\n",
    "ATIE_press_5<-filter(ATIE_press_all_rows,grepl(\"补助\",content))\n",
    "ATIE_press_6<-filter(ATIE_press_all_rows,grepl(\"补贴\",content))\n",
    "ATIE_press_taiwan<-rbind(ATIE_press_1,ATIE_press_2,ATIE_press_3,ATIE_press_4,ATIE_press_5,ATIE_press_6)\n",
    "ATIE_press_taiwan<-unique(ATIE_press_taiwan)\n",
    "\n",
    "h<-ATIE_press_taiwan$content\n",
    "cc=worker()\n",
    "cc[h]\n",
    "ATIE_taiwan<-table(cc[h])\n",
    "ATIE_taiwan<-data.frame(ATIE_taiwan)"
   ]
  },
  {
   "cell_type": "code",
   "execution_count": null,
   "metadata": {},
   "outputs": [],
   "source": [
    "china_press_1<-filter(china_press,grepl(\"企业\",content))\n",
    "china_press_1<-filter(china_press_1,grepl(\"台湾\",content))\n",
    "china_press_2<-filter(china_press,grepl(\"企业\",content))\n",
    "china_press_2<-filter(china_press_2,grepl(\"台资\",content))\n",
    "china_press_3<-filter(china_press,grepl(\"集团\",content))\n",
    "china_press_3<-filter(china_press_3,grepl(\"台湾\",content))\n",
    "china_press_4<-filter(china_press,grepl(\"台商\",content))\n",
    "china_press_5<-filter(china_press,grepl(\"补助\",content))\n",
    "china_press_6<-filter(china_press,grepl(\"补贴\",content))\n",
    "china_press<-rbind(china_press_1,china_press_2,china_press_3,china_press_4,china_press_5,china_press_6)\n",
    "china_press<-unique(china_press)\n",
    "\n",
    "h<-china_press$content\n",
    "cc=worker()\n",
    "cc[h]\n",
    "china_press<-table(cc[h])\n",
    "china_press<-data.frame(china_press)"
   ]
  },
  {
   "cell_type": "code",
   "execution_count": null,
   "metadata": {},
   "outputs": [],
   "source": []
  }
 ],
 "metadata": {
  "kernelspec": {
   "display_name": "R",
   "language": "R",
   "name": "ir"
  },
  "language_info": {
   "codemirror_mode": "r",
   "file_extension": ".r",
   "mimetype": "text/x-r-source",
   "name": "R",
   "pygments_lexer": "r",
   "version": "3.6.0"
  }
 },
 "nbformat": 4,
 "nbformat_minor": 2
}
